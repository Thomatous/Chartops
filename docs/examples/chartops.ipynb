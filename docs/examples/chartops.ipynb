{
 "cells": [
  {
   "cell_type": "markdown",
   "metadata": {},
   "source": [
    "[![Open In Colab](https://colab.research.google.com/assets/colab-badge.svg)](https://colab.research.google.com/github/Thomatous/Chartops/blob/main/docs/examples/chartops.ipynb)"
   ]
  },
  {
   "cell_type": "code",
   "execution_count": 1,
   "metadata": {},
   "outputs": [
    {
     "name": "stdout",
     "output_type": "stream",
     "text": [
      "Note: you may need to restart the kernel to use updated packages.\n"
     ]
    },
    {
     "name": "stderr",
     "output_type": "stream",
     "text": [
      "ERROR: chartops/chartops.py is not a valid editable requirement. It should either be a path to a local project or a VCS URL (beginning with bzr+http, bzr+https, bzr+ssh, bzr+sftp, bzr+ftp, bzr+lp, bzr+file, git+http, git+https, git+ssh, git+git, git+file, hg+file, hg+http, hg+https, hg+ssh, hg+static-http, svn+ssh, svn+http, svn+https, svn+svn, svn+file).\n",
      "\n",
      "[notice] A new release of pip available: 22.2.1 -> 25.1.1\n",
      "[notice] To update, run: python.exe -m pip install --upgrade pip\n"
     ]
    }
   ],
   "source": [
    "# %pip install chartops\n",
    "%pip install -e chartops/chartops.py"
   ]
  },
  {
   "cell_type": "code",
   "execution_count": 2,
   "metadata": {},
   "outputs": [],
   "source": [
    "from chartops.chartops import Map"
   ]
  },
  {
   "cell_type": "code",
   "execution_count": 3,
   "metadata": {},
   "outputs": [
    {
     "data": {
      "application/vnd.jupyter.widget-view+json": {
       "model_id": "f9c7346de4004ffebd792bfefa923469",
       "version_major": 2,
       "version_minor": 0
      },
      "text/plain": [
       "Map(center=[34.5, 18.0], controls=(ZoomControl(options=['position', 'zoom_in_text', 'zoom_in_title', 'zoom_out…"
      ]
     },
     "execution_count": 3,
     "metadata": {},
     "output_type": "execute_result"
    }
   ],
   "source": [
    "map = Map(center=[34.5, 18.0], zoom=5)\n",
    "map"
   ]
  },
  {
   "cell_type": "code",
   "execution_count": 4,
   "metadata": {},
   "outputs": [
    {
     "data": {
      "application/vnd.jupyter.widget-view+json": {
       "model_id": "4e09d5ac76324894bc7cfb664d67ee65",
       "version_major": 2,
       "version_minor": 0
      },
      "text/plain": [
       "Map(center=[34.5, 18.0], controls=(ZoomControl(options=['position', 'zoom_in_text', 'zoom_in_title', 'zoom_out…"
      ]
     },
     "execution_count": 4,
     "metadata": {},
     "output_type": "execute_result"
    }
   ],
   "source": [
    "map_with_basemap = Map(center=[34.5, 18.0], zoom=5)\n",
    "map_with_basemap.add_basemap(\"OpenTopoMap\")\n",
    "map_with_basemap"
   ]
  },
  {
   "cell_type": "code",
   "execution_count": 5,
   "metadata": {},
   "outputs": [
    {
     "data": {
      "application/vnd.jupyter.widget-view+json": {
       "model_id": "f85d6dad79ac498ea35f51cf6a8351a3",
       "version_major": 2,
       "version_minor": 0
      },
      "text/plain": [
       "Map(center=[34.5, 18.0], controls=(ZoomControl(options=['position', 'zoom_in_text', 'zoom_in_title', 'zoom_out…"
      ]
     },
     "execution_count": 5,
     "metadata": {},
     "output_type": "execute_result"
    }
   ],
   "source": [
    "map_with_layer_controls = Map(center=[34.5, 18.0], zoom=5)\n",
    "map_with_layer_controls.add_layer_control()\n",
    "map_with_layer_controls"
   ]
  },
  {
   "cell_type": "code",
   "execution_count": 6,
   "metadata": {},
   "outputs": [
    {
     "data": {
      "application/vnd.jupyter.widget-view+json": {
       "model_id": "04f7f2129e0642278f4f9c3ec3fdd14c",
       "version_major": 2,
       "version_minor": 0
      },
      "text/plain": [
       "Map(center=[34.5, 18.0], controls=(ZoomControl(options=['position', 'zoom_in_text', 'zoom_in_title', 'zoom_out…"
      ]
     },
     "execution_count": 6,
     "metadata": {},
     "output_type": "execute_result"
    }
   ],
   "source": [
    "map_with_vector = Map(center=[34.5, 18.0], zoom=5)\n",
    "map_with_vector.add_vector(\n",
    "    \"https://github.com/jupyter-widgets/ipyleaflet/raw/master/examples/europe_110.geo.json\",\n",
    "    \"Europe Vector\",\n",
    ")\n",
    "map_with_vector"
   ]
  },
  {
   "cell_type": "code",
   "execution_count": 7,
   "metadata": {},
   "outputs": [
    {
     "data": {
      "application/vnd.jupyter.widget-view+json": {
       "model_id": "803d583db119465ba73971ee4856311c",
       "version_major": 2,
       "version_minor": 0
      },
      "text/plain": [
       "Map(center=[34.5, 18.0], controls=(ZoomControl(options=['position', 'zoom_in_text', 'zoom_in_title', 'zoom_out…"
      ]
     },
     "execution_count": 7,
     "metadata": {},
     "output_type": "execute_result"
    }
   ],
   "source": [
    "map_with_all_feature = Map(center=[34.5, 18.0], zoom=5)\n",
    "map_with_all_feature.add_basemap(\"Esri.WorldImagery\")\n",
    "map_with_all_feature.add_layer_control()\n",
    "map_with_all_feature.add_vector(\n",
    "    \"https://github.com/jupyter-widgets/ipyleaflet/raw/master/examples/europe_110.geo.json\",\n",
    "    \"Europe Vector\",\n",
    ")\n",
    "map_with_all_feature"
   ]
  },
  {
   "cell_type": "code",
   "execution_count": 8,
   "metadata": {},
   "outputs": [
    {
     "data": {
      "application/vnd.jupyter.widget-view+json": {
       "model_id": "aae39d631603418e9b5722aa3655d056",
       "version_major": 2,
       "version_minor": 0
      },
      "text/plain": [
       "Map(center=[34.5, 18.0], controls=(ZoomControl(options=['position', 'zoom_in_text', 'zoom_in_title', 'zoom_out…"
      ]
     },
     "execution_count": 8,
     "metadata": {},
     "output_type": "execute_result"
    }
   ],
   "source": [
    "map_with_raster = Map(center=[34.5, 18.0], zoom=5)\n",
    "map_with_raster.add_raster(\"https://github.com/opengeos/datasets/releases/download/raster/dem_90m.tif\")\n",
    "map_with_raster"
   ]
  }
 ],
 "metadata": {
  "kernelspec": {
   "display_name": "venv",
   "language": "python",
   "name": "python3"
  },
  "language_info": {
   "codemirror_mode": {
    "name": "ipython",
    "version": 3
   },
   "file_extension": ".py",
   "mimetype": "text/x-python",
   "name": "python",
   "nbconvert_exporter": "python",
   "pygments_lexer": "ipython3",
   "version": "3.10.6"
  }
 },
 "nbformat": 4,
 "nbformat_minor": 2
}
