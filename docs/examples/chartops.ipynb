{
 "cells": [
  {
   "cell_type": "markdown",
   "metadata": {},
   "source": [
    "[![Open In Colab](https://colab.research.google.com/assets/colab-badge.svg)](https://colab.research.google.com/github/Thomatous/Chartops/blob/main/docs/examples/chartops.ipynb)"
   ]
  },
  {
   "cell_type": "code",
   "execution_count": 1,
   "metadata": {},
   "outputs": [
    {
     "name": "stdout",
     "output_type": "stream",
     "text": [
      "Note: you may need to restart the kernel to use updated packages.\n"
     ]
    },
    {
     "name": "stderr",
     "output_type": "stream",
     "text": [
      "ERROR: Invalid requirement: 'chartops/chartops.py'\n",
      "\n",
      "[notice] A new release of pip available: 22.2.1 -> 25.1.1\n",
      "[notice] To update, run: python.exe -m pip install --upgrade pip\n"
     ]
    }
   ],
   "source": [
    "# %pip install chartops\n",
    "%pip install -q chartops/chartops.py"
   ]
  },
  {
   "cell_type": "code",
   "execution_count": 2,
   "metadata": {},
   "outputs": [],
   "source": [
    "from chartops.chartops import Map"
   ]
  },
  {
   "cell_type": "code",
   "execution_count": 3,
   "metadata": {},
   "outputs": [
    {
     "data": {
      "application/vnd.jupyter.widget-view+json": {
       "model_id": "4f5f64d8ef6d4fe9b3c4d1e9e6d949cb",
       "version_major": 2,
       "version_minor": 0
      },
      "text/plain": [
       "Map(center=[34.5, 18.0], controls=(ZoomControl(options=['position', 'zoom_in_text', 'zoom_in_title', 'zoom_out…"
      ]
     },
     "execution_count": 3,
     "metadata": {},
     "output_type": "execute_result"
    }
   ],
   "source": [
    "map = Map(center=[34.5, 18.0], zoom=5)\n",
    "map"
   ]
  },
  {
   "cell_type": "code",
   "execution_count": 4,
   "metadata": {},
   "outputs": [
    {
     "data": {
      "application/vnd.jupyter.widget-view+json": {
       "model_id": "0689ed241b264c3eb883430e0dc1e463",
       "version_major": 2,
       "version_minor": 0
      },
      "text/plain": [
       "Map(center=[34.5, 18.0], controls=(ZoomControl(options=['position', 'zoom_in_text', 'zoom_in_title', 'zoom_out…"
      ]
     },
     "execution_count": 4,
     "metadata": {},
     "output_type": "execute_result"
    }
   ],
   "source": [
    "map_with_basemap = Map(center=[34.5, 18.0], zoom=5)\n",
    "map_with_basemap.add_basemap(\"OpenTopoMap\")\n",
    "map_with_basemap"
   ]
  },
  {
   "cell_type": "code",
   "execution_count": 5,
   "metadata": {},
   "outputs": [
    {
     "data": {
      "application/vnd.jupyter.widget-view+json": {
       "model_id": "0a5e06f12a4b4b1da77e191d44291d3e",
       "version_major": 2,
       "version_minor": 0
      },
      "text/plain": [
       "Map(center=[34.5, 18.0], controls=(ZoomControl(options=['position', 'zoom_in_text', 'zoom_in_title', 'zoom_out…"
      ]
     },
     "execution_count": 5,
     "metadata": {},
     "output_type": "execute_result"
    }
   ],
   "source": [
    "map_with_layer_controls = Map(center=[34.5, 18.0], zoom=5)\n",
    "map_with_layer_controls.add_layer_control()\n",
    "map_with_layer_controls"
   ]
  },
  {
   "cell_type": "code",
   "execution_count": 6,
   "metadata": {},
   "outputs": [
    {
     "data": {
      "application/vnd.jupyter.widget-view+json": {
       "model_id": "cc636be4ff7f410a963289d42d071c73",
       "version_major": 2,
       "version_minor": 0
      },
      "text/plain": [
       "Map(center=[34.5, 18.0], controls=(ZoomControl(options=['position', 'zoom_in_text', 'zoom_in_title', 'zoom_out…"
      ]
     },
     "execution_count": 6,
     "metadata": {},
     "output_type": "execute_result"
    }
   ],
   "source": [
    "map_with_vector = Map(center=[34.5, 18.0], zoom=5)\n",
    "map_with_vector.add_vector(\n",
    "    \"https://github.com/jupyter-widgets/ipyleaflet/raw/master/examples/europe_110.geo.json\",\n",
    "    \"Europe Vector\",\n",
    ")\n",
    "map_with_vector"
   ]
  },
  {
   "cell_type": "code",
   "execution_count": 7,
   "metadata": {},
   "outputs": [
    {
     "data": {
      "application/vnd.jupyter.widget-view+json": {
       "model_id": "a0aee2a3b6b042d7befc18fd9fe5c57f",
       "version_major": 2,
       "version_minor": 0
      },
      "text/plain": [
       "Map(center=[34.5, 18.0], controls=(ZoomControl(options=['position', 'zoom_in_text', 'zoom_in_title', 'zoom_out…"
      ]
     },
     "execution_count": 7,
     "metadata": {},
     "output_type": "execute_result"
    }
   ],
   "source": [
    "map_with_all_feature = Map(center=[34.5, 18.0], zoom=5)\n",
    "map_with_all_feature.add_basemap(\"Esri.WorldImagery\")\n",
    "map_with_all_feature.add_layer_control()\n",
    "map_with_all_feature.add_vector(\n",
    "    \"https://github.com/jupyter-widgets/ipyleaflet/raw/master/examples/europe_110.geo.json\",\n",
    "    \"Europe Vector\",\n",
    ")\n",
    "map_with_all_feature"
   ]
  },
  {
   "cell_type": "code",
   "execution_count": 8,
   "metadata": {},
   "outputs": [
    {
     "name": "stdout",
     "output_type": "stream",
     "text": [
      "http://localhost:62398/api/tiles/{z}/{x}/{y}.png?&filename=%2Fvsicurl%3Furl%3Dhttps%253A%252F%252Fgithub.com%252Fopengeos%252Fdatasets%252Freleases%252Fdownload%252Fraster%252Fdem_90m.tif%26use_head%3Dno%26list_dir%3Dno\n"
     ]
    },
    {
     "data": {
      "application/vnd.jupyter.widget-view+json": {
       "model_id": "5782d47e55714be38c12c7f2c095de2f",
       "version_major": 2,
       "version_minor": 0
      },
      "text/plain": [
       "Map(center=[34.5, 18.0], controls=(ZoomControl(options=['position', 'zoom_in_text', 'zoom_in_title', 'zoom_out…"
      ]
     },
     "execution_count": 8,
     "metadata": {},
     "output_type": "execute_result"
    }
   ],
   "source": [
    "from pathlib import Path\n",
    "map_with_raster = Map(center=[34.5, 18.0], zoom=5)\n",
    "map_with_raster.add_raster(\"https://github.com/opengeos/datasets/releases/download/raster/dem_90m.tif\")\n",
    "map_with_raster"
   ]
  }
 ],
 "metadata": {
  "kernelspec": {
   "display_name": "venv",
   "language": "python",
   "name": "python3"
  },
  "language_info": {
   "codemirror_mode": {
    "name": "ipython",
    "version": 3
   },
   "file_extension": ".py",
   "mimetype": "text/x-python",
   "name": "python",
   "nbconvert_exporter": "python",
   "pygments_lexer": "ipython3",
   "version": "3.10.6"
  }
 },
 "nbformat": 4,
 "nbformat_minor": 2
}
