{
 "cells": [
  {
   "cell_type": "markdown",
   "metadata": {},
   "source": [
    "[![Open In Colab](https://colab.research.google.com/assets/colab-badge.svg)](https://colab.research.google.com/github/Thomatous/Chartops/blob/main/docs/examples/chartops.ipynb)"
   ]
  },
  {
   "cell_type": "code",
   "execution_count": 1,
   "metadata": {},
   "outputs": [
    {
     "name": "stdout",
     "output_type": "stream",
     "text": [
      "Note: you may need to restart the kernel to use updated packages.\n"
     ]
    },
    {
     "name": "stderr",
     "output_type": "stream",
     "text": [
      "ERROR: Invalid requirement: 'chartops/chartops.py'\n",
      "\n",
      "[notice] A new release of pip available: 22.2.1 -> 25.1.1\n",
      "[notice] To update, run: python.exe -m pip install --upgrade pip\n"
     ]
    }
   ],
   "source": [
    "# %pip install -q chartops\n",
    "%pip install -q chartops/chartops.py"
   ]
  },
  {
   "cell_type": "code",
   "execution_count": 2,
   "metadata": {},
   "outputs": [],
   "source": [
    "from chartops.chartops import Map"
   ]
  },
  {
   "cell_type": "code",
   "execution_count": 3,
   "metadata": {},
   "outputs": [
    {
     "data": {
      "application/vnd.jupyter.widget-view+json": {
       "model_id": "e55d9f3d0ba04218a80388ae5e099c9f",
       "version_major": 2,
       "version_minor": 0
      },
      "text/plain": [
       "Map(center=[34.5, 18.0], controls=(ZoomControl(options=['position', 'zoom_in_text', 'zoom_in_title', 'zoom_out…"
      ]
     },
     "execution_count": 3,
     "metadata": {},
     "output_type": "execute_result"
    }
   ],
   "source": [
    "map = Map(center=[34.5, 18.0], zoom=5)\n",
    "map"
   ]
  },
  {
   "cell_type": "code",
   "execution_count": 4,
   "metadata": {},
   "outputs": [
    {
     "data": {
      "application/vnd.jupyter.widget-view+json": {
       "model_id": "1ea13a3bdc614b5e89f8516857ea775c",
       "version_major": 2,
       "version_minor": 0
      },
      "text/plain": [
       "Map(center=[34.5, 18.0], controls=(ZoomControl(options=['position', 'zoom_in_text', 'zoom_in_title', 'zoom_out…"
      ]
     },
     "execution_count": 4,
     "metadata": {},
     "output_type": "execute_result"
    }
   ],
   "source": [
    "map_with_basemap = Map(center=[34.5, 18.0], zoom=5)\n",
    "map_with_basemap.add_basemap(\"OpenTopoMap\")\n",
    "map_with_basemap"
   ]
  },
  {
   "cell_type": "code",
   "execution_count": 5,
   "metadata": {},
   "outputs": [
    {
     "data": {
      "application/vnd.jupyter.widget-view+json": {
       "model_id": "699464e8963d4e3b928e24a5c988d319",
       "version_major": 2,
       "version_minor": 0
      },
      "text/plain": [
       "Map(center=[34.5, 18.0], controls=(ZoomControl(options=['position', 'zoom_in_text', 'zoom_in_title', 'zoom_out…"
      ]
     },
     "execution_count": 5,
     "metadata": {},
     "output_type": "execute_result"
    }
   ],
   "source": [
    "map_with_layer_controls = Map(center=[34.5, 18.0], zoom=5)\n",
    "map_with_layer_controls.add_layer_control()\n",
    "map_with_layer_controls"
   ]
  },
  {
   "cell_type": "code",
   "execution_count": 6,
   "metadata": {},
   "outputs": [
    {
     "data": {
      "application/vnd.jupyter.widget-view+json": {
       "model_id": "1fdea813128c46caa34b29fc31d283dd",
       "version_major": 2,
       "version_minor": 0
      },
      "text/plain": [
       "Map(center=[34.5, 18.0], controls=(ZoomControl(options=['position', 'zoom_in_text', 'zoom_in_title', 'zoom_out…"
      ]
     },
     "execution_count": 6,
     "metadata": {},
     "output_type": "execute_result"
    }
   ],
   "source": [
    "map_with_vector = Map(center=[34.5, 18.0], zoom=5)\n",
    "map_with_vector.add_vector(\n",
    "    \"https://github.com/jupyter-widgets/ipyleaflet/raw/master/examples/europe_110.geo.json\",\n",
    "    \"Europe Vector\",\n",
    ")\n",
    "map_with_vector"
   ]
  },
  {
   "cell_type": "code",
   "execution_count": 7,
   "metadata": {},
   "outputs": [
    {
     "data": {
      "application/vnd.jupyter.widget-view+json": {
       "model_id": "7c4e470d41704b6d8d873a172d4b6846",
       "version_major": 2,
       "version_minor": 0
      },
      "text/plain": [
       "Map(center=[34.5, 18.0], controls=(ZoomControl(options=['position', 'zoom_in_text', 'zoom_in_title', 'zoom_out…"
      ]
     },
     "execution_count": 7,
     "metadata": {},
     "output_type": "execute_result"
    }
   ],
   "source": [
    "map_with_multiple_features = Map(center=[34.5, 18.0], zoom=5)\n",
    "map_with_multiple_features.add_basemap(\"Esri.WorldImagery\")\n",
    "map_with_multiple_features.add_layer_control()\n",
    "map_with_multiple_features.add_vector(\n",
    "    \"https://github.com/jupyter-widgets/ipyleaflet/raw/master/examples/europe_110.geo.json\",\n",
    "    \"Europe Vector\",\n",
    ")\n",
    "map_with_multiple_features"
   ]
  },
  {
   "cell_type": "code",
   "execution_count": 8,
   "metadata": {},
   "outputs": [
    {
     "data": {
      "application/vnd.jupyter.widget-view+json": {
       "model_id": "667f5b80b0c145b1a47cd63227699c2a",
       "version_major": 2,
       "version_minor": 0
      },
      "text/plain": [
       "Map(center=[37.630466999999996, -119.03021849999999], controls=(ZoomControl(options=['position', 'zoom_in_text…"
      ]
     },
     "execution_count": 8,
     "metadata": {},
     "output_type": "execute_result"
    }
   ],
   "source": [
    "map_with_raster = Map(center=[34.5, 18.0], zoom=5)\n",
    "map_with_raster.add_raster(\n",
    "    url=\"https://github.com/opengeos/datasets/releases/download/raster/dem_90m.tif\",\n",
    "    colormap={\n",
    "        \"red\": (\n",
    "            (0.0, 0.0, 0.0),\n",
    "            (0.5, 0.0, 0.1),\n",
    "            (1.0, 1.0, 1.0),\n",
    "        ),\n",
    "        \"green\": (\n",
    "            (0.0, 0.0, 0.0),\n",
    "            (1.0, 0.0, 0.0),\n",
    "        ),\n",
    "        \"blue\": (\n",
    "            (0.0, 0.0, 1.0),\n",
    "            (0.5, 0.1, 0.0),\n",
    "            (1.0, 0.0, 0.0),\n",
    "        ),\n",
    "    },\n",
    "    opacity=0.7,\n",
    ")\n",
    "map_with_raster"
   ]
  },
  {
   "cell_type": "code",
   "execution_count": 9,
   "metadata": {},
   "outputs": [
    {
     "data": {
      "application/vnd.jupyter.widget-view+json": {
       "model_id": "b695123ace3d41eaacafe7c3119ab798",
       "version_major": 2,
       "version_minor": 0
      },
      "text/plain": [
       "Map(center=[34.5, 18.0], controls=(ZoomControl(options=['position', 'zoom_in_text', 'zoom_in_title', 'zoom_out…"
      ]
     },
     "execution_count": 9,
     "metadata": {},
     "output_type": "execute_result"
    }
   ],
   "source": [
    "map_with_image = Map(center=[34.5, 18.0], zoom=5)\n",
    "map_with_image.add_image(\n",
    "    url=\"https://i.imgur.com/06Q1fSz.png\",\n",
    "    bounds=((13, -130), (32, -100)),\n",
    "    opacity=0.5\n",
    ")\n",
    "map_with_image"
   ]
  }
 ],
 "metadata": {
  "kernelspec": {
   "display_name": "venv",
   "language": "python",
   "name": "python3"
  },
  "language_info": {
   "codemirror_mode": {
    "name": "ipython",
    "version": 3
   },
   "file_extension": ".py",
   "mimetype": "text/x-python",
   "name": "python",
   "nbconvert_exporter": "python",
   "pygments_lexer": "ipython3",
   "version": "3.10.6"
  }
 },
 "nbformat": 4,
 "nbformat_minor": 2
}
